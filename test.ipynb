{
 "cells": [
  {
   "cell_type": "markdown",
   "metadata": {},
   "source": [
    "## <CENTER> Notebook test\n",
    "______________________________________________"
   ]
  },
  {
   "cell_type": "markdown",
   "metadata": {},
   "source": [
    "### This is an example notebook using ROOT libraries from python. You can play around here and experiment, and you can also create several separate notebooks for specific studies.\n",
    "\n",
    "### Best of luck!\n",
    "_____________________________________________"
   ]
  },
  {
   "cell_type": "code",
   "execution_count": null,
   "metadata": {},
   "outputs": [],
   "source": [
    "# to use standard python modules, you import them\n",
    "import math\n",
    "\n",
    "# in order to use ROOT, you import ROOT\n",
    "import ROOT"
   ]
  },
  {
   "cell_type": "markdown",
   "metadata": {},
   "source": [
    "### Make a histogram and fill it with random numbers"
   ]
  },
  {
   "cell_type": "code",
   "execution_count": null,
   "metadata": {},
   "outputs": [],
   "source": [
    "# let's create a one-dimensional histogram with 10 bins in x, covering -5 to 5.\n",
    "h = ROOT.TH1F(\"randomnumbers\", \"My random numbers\", 10, -5, 5)"
   ]
  },
  {
   "cell_type": "code",
   "execution_count": null,
   "metadata": {},
   "outputs": [],
   "source": [
    "# now let's make a pseudo-random number generator and have it generate numbers following a normal distribution\n",
    "prng = ROOT.TRandom3(123) # 123 is the seed which sets the initial state of the prng\n",
    "print(\"test\")\n",
    "for i in range(10):\n",
    "    print(\"Number %d: %f\" % (i, prng.Gaus()))\n"
   ]
  },
  {
   "cell_type": "code",
   "execution_count": null,
   "metadata": {},
   "outputs": [],
   "source": [
    "# now fill the histogram we just made with random numbers: \n",
    "for i in range(100000):\n",
    "    h.Fill(prng.Gaus())"
   ]
  },
  {
   "cell_type": "code",
   "execution_count": null,
   "metadata": {
    "scrolled": false
   },
   "outputs": [],
   "source": [
    "# to draw the histogram we need to define a canvas etc.\n",
    "c1 = ROOT.TCanvas(\"c1\",\"c1\",900,600)\n",
    "h.Draw()\n",
    "c1.Draw()"
   ]
  },
  {
   "cell_type": "markdown",
   "metadata": {},
   "source": [
    "### Now let's try some other distributions"
   ]
  },
  {
   "cell_type": "code",
   "execution_count": null,
   "metadata": {},
   "outputs": [],
   "source": [
    "h_pois = ROOT.TH1F(\"poisson\", \"Poissonian numbers\", 50, 0, 50)\n",
    "h_land = ROOT.TH1F(\"landau\", \"Landau numbers\", 100, 0, 20)"
   ]
  },
  {
   "cell_type": "code",
   "execution_count": null,
   "metadata": {},
   "outputs": [],
   "source": [
    "pois_lambda = 15\n",
    "for i in range(100000):\n",
    "    h_pois.Fill(prng.Poisson(pois_lambda))"
   ]
  },
  {
   "cell_type": "code",
   "execution_count": null,
   "metadata": {},
   "outputs": [],
   "source": [
    "landau_mpv, landau_sigma = 5,1\n",
    "for i in range(100000):\n",
    "    h_land.Fill(prng.Landau(landau_mpv, landau_sigma))"
   ]
  },
  {
   "cell_type": "code",
   "execution_count": null,
   "metadata": {},
   "outputs": [],
   "source": [
    "# to draw the histogram we need to define a canvas etc.\n",
    "c2 = ROOT.TCanvas(\"c2\",\"c2\",900,600)\n",
    "h_pois.Draw()\n",
    "c2.Draw()"
   ]
  },
  {
   "cell_type": "code",
   "execution_count": null,
   "metadata": {},
   "outputs": [],
   "source": [
    "c3 = ROOT.TCanvas(\"c3\",\"c3\",900,600)\n",
    "h_land.Draw()\n",
    "c3.Draw()"
   ]
  },
  {
   "cell_type": "markdown",
   "metadata": {},
   "source": [
    "### We can also combine histograms!"
   ]
  },
  {
   "cell_type": "code",
   "execution_count": null,
   "metadata": {},
   "outputs": [],
   "source": [
    "# let's define a total histogram, and two histograms representing two different contributions, \n",
    "# each described by an exponential distribution\n",
    "h_exp = ROOT.TH1F(\"exponential\", \"Exponential combined distribution\", 100, 0, 250)\n",
    "h_exp_low = ROOT.TH1F(\"exp_low\", \"Exponential low distribution\", 100, 0, 250)\n",
    "h_exp_high = ROOT.TH1F(\"exp_high\", \"Exponential high distribution\", 100, 0, 250)\n",
    "\n",
    "# the two exponentials have different values for the parameter that describes the slope\n",
    "exp_slope_high = 50\n",
    "exp_slope_low  = 14"
   ]
  },
  {
   "cell_type": "code",
   "execution_count": null,
   "metadata": {},
   "outputs": [],
   "source": [
    "# the probabilities of the two processes that the contributions correspond to can be different, \n",
    "# let's say the probability of the process corresponding to the high contribution is 0.346%\n",
    "prob_of_high = 0.00346\n",
    "print(prob_of_high)"
   ]
  },
  {
   "cell_type": "code",
   "execution_count": null,
   "metadata": {},
   "outputs": [],
   "source": [
    "for i in range(1000000): # generate 1M random numbers for the combination of the two contributions\n",
    "    if prng.Rndm() > prob_of_high: # the random number generated this way is uniform in [0,1]\n",
    "        low_exp = prng.Exp(exp_slope_low)\n",
    "        h_exp.Fill(prng.Exp(exp_slope_low))\n",
    "        h_exp_low.Fill(low_exp)\n",
    "    else:\n",
    "        high_exp = prng.Exp(exp_slope_high)\n",
    "        h_exp.Fill(high_exp)\n",
    "        h_exp_high.Fill(high_exp)"
   ]
  },
  {
   "cell_type": "code",
   "execution_count": null,
   "metadata": {},
   "outputs": [],
   "source": [
    "c4 = ROOT.TCanvas(\"c4\",\"c4\",900,600)\n",
    "c4.SetLogy() # let's use logarithmic y-axis to see the tail in detail\n",
    "h_exp_low.Draw()\n",
    "h_exp_high.Draw(\"SAME\")\n",
    "h_exp_low.SetLineColor(2)\n",
    "c4.BuildLegend() # build a legend explaining the two histograms\n",
    "ROOT.gStyle.SetOptStat(0) # turn off the box with statistics, i.e. number of entries etc\n",
    "c4.Draw()"
   ]
  },
  {
   "cell_type": "code",
   "execution_count": null,
   "metadata": {},
   "outputs": [],
   "source": [
    "c5 = ROOT.TCanvas(\"c5\",\"c5\",900,600)\n",
    "h_exp.Draw() # this is the sum, we filled it for both processes\n",
    "c5.SetLogy()\n",
    "c5.Draw()"
   ]
  },
  {
   "cell_type": "markdown",
   "metadata": {},
   "source": [
    "## Defining functions"
   ]
  },
  {
   "cell_type": "code",
   "execution_count": null,
   "metadata": {},
   "outputs": [],
   "source": [
    "# we can define a function describing the Poisson distribution\n",
    "# this defines a Poisson with mu=50 over the interval [0, 500]\n",
    "fPoisson = ROOT.TF1(\"myPoisson\", \"TMath::Poisson(x, [mu])\", 0, 500)\n",
    "fPoisson.SetParameter(\"mu\", 50)\n",
    "fPoisson.SetNpx(1000) # use higher number of points than default (100) when drawing\n",
    "c6 = ROOT.TCanvas(\"c6\", \"c6\", 800, 600)\n",
    "fPoisson.Draw()\n",
    "c6.Draw()"
   ]
  },
  {
   "cell_type": "code",
   "execution_count": null,
   "metadata": {},
   "outputs": [],
   "source": [
    "# print out some info about the function\n",
    "fPoisson.Print()"
   ]
  },
  {
   "cell_type": "code",
   "execution_count": null,
   "metadata": {},
   "outputs": [],
   "source": [
    "# check the parameters\n",
    "for p in range(0, fPoisson.GetNpar()):\n",
    "    print(\"%d: %s = %f\" % (p, fPoisson.GetParName(p), fPoisson.GetParameter(p)))"
   ]
  },
  {
   "cell_type": "code",
   "execution_count": null,
   "metadata": {},
   "outputs": [],
   "source": [
    "# let's also define a gaussian\n",
    "fGauss = ROOT.TF1(\"myGauss\", \"gaus\", 0, 500)\n",
    "fGauss.Print()\n",
    "\n",
    "# check the parameter values - we haven't set them, so these are the default values\n",
    "for p in range(0, fGauss.GetNpar()):\n",
    "    print(\"%d: %s = %f\" % (p, fGauss.GetParName(p), fGauss.GetParameter(p)))"
   ]
  },
  {
   "cell_type": "code",
   "execution_count": null,
   "metadata": {},
   "outputs": [],
   "source": [
    "# set the parameter values\n",
    "fGauss.SetParameter(\"Constant\", 0.05) # to easily see it next to the Poisson\n",
    "fGauss.SetParameter(\"Mean\", 14)\n",
    "fGauss.SetParameter(\"Sigma\", 2)\n",
    "fGauss.SetNpx(1000) # use higher number of points than default (100) when drawing\n",
    "c6.cd()\n",
    "fGauss.Draw(\"SAME\")\n",
    "c6.Draw()\n"
   ]
  },
  {
   "cell_type": "code",
   "execution_count": null,
   "metadata": {},
   "outputs": [],
   "source": [
    "# let's make the y axis logarithmic to more easily see both large and small values\n",
    "c6.SetLogy(1)\n",
    "c6.Draw()"
   ]
  },
  {
   "cell_type": "markdown",
   "metadata": {},
   "source": [
    "# Now to the task of generating the distribution of tracks per BC\n",
    "What do we know?\n",
    "* The number of interactions per BC follows a Poisson distribution, like `fPoisson` above\n",
    "* The number of tracks per interaction follows the sum of two exponential terms\n",
    "\n",
    "The trick is now to combine these to generate toy BCs, by drawing a random number of interactions, and for each interaction in the BC generate a random number of tracks!"
   ]
  },
  {
   "cell_type": "code",
   "execution_count": null,
   "metadata": {},
   "outputs": [],
   "source": []
  }
 ],
 "metadata": {
  "kernelspec": {
   "display_name": "Python 3",
   "language": "python",
   "name": "python3"
  },
  "language_info": {
   "codemirror_mode": {
    "name": "ipython",
    "version": 3
   },
   "file_extension": ".py",
   "mimetype": "text/x-python",
   "name": "python",
   "nbconvert_exporter": "python",
   "pygments_lexer": "ipython3",
   "version": "3.6.6"
  }
 },
 "nbformat": 4,
 "nbformat_minor": 2
}
